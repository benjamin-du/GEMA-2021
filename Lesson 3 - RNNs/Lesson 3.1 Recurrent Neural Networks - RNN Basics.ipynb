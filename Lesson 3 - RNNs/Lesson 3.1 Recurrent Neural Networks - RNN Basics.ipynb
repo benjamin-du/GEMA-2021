{
 "cells": [
  {
   "cell_type": "markdown",
   "metadata": {},
   "source": [
    "<h1 style='text-align: center; color: lightblue; font-size: 40px'> RNN and LSTM </h1>\n",
    "<h2 style='text-align: center; color: lightblue; font-size: 30px'> RNN </h2>"
   ]
  },
  {
   "cell_type": "markdown",
   "metadata": {},
   "source": [
    "# The idea of recurrence"
   ]
  },
  {
   "cell_type": "markdown",
   "metadata": {},
   "source": [
    "<a href=\"http://karpathy.github.io/2015/05/21/rnn-effectiveness/\"> source </a>\n",
    "\n",
    "<p style=\"font-size:120%\">A glaring limitation of Vanilla Neural Networks (and also Convolutional Networks) is that their API is too constrained: they accept a fixed-sized vector as input (e.g. an image) and produce a fixed-sized vector as output (e.g. probabilities of different classes). Not only that: These models perform this mapping using a fixed amount of computational steps (e.g. the number of layers in the model).</p>"
   ]
  },
  {
   "cell_type": "markdown",
   "metadata": {},
   "source": [
    "<img src=\"http://karpathy.github.io/assets/rnn/diags.jpeg\">"
   ]
  },
  {
   "cell_type": "markdown",
   "metadata": {},
   "source": [
    "<p style=\"font-size:120%\">The important idea of RNN is that the output is calculated using not only the input, but also the previous state of the hidden layer ! But this previous state was influenced by the previous input (and past previous states, which were influenced by past inputs, and so on...) </p>"
   ]
  },
  {
   "cell_type": "markdown",
   "metadata": {},
   "source": [
    "# The core equation"
   ]
  },
  {
   "cell_type": "markdown",
   "metadata": {},
   "source": [
    "At the beginning of the class, we saw the equation for a linear regression. What is the equation for a RNN ?"
   ]
  },
  {
   "cell_type": "code",
   "execution_count": 1,
   "metadata": {},
   "outputs": [],
   "source": [
    "class RNN():\n",
    "    #...\n",
    "    def step(self, x):\n",
    "        # update the hidden state\n",
    "        self.h = np.tanh(np.dot(self.W_hh, self.h) + np.dot(self.W_xh, x))\n",
    "        # compute the output vector\n",
    "        y = np.dot(self.W_hy, self.h)\n",
    "        return y"
   ]
  },
  {
   "cell_type": "markdown",
   "metadata": {
    "cell_style": "center"
   },
   "source": [
    "* self.h: the hidden <i> state </i>, initiliazed with the zero vector\n",
    "* W_hh, W_xh, W_hy: <i> parameters </i> to be learned through backprop\n",
    "* * W_xh : turns the one-hot encoded input vector into embeddings of size vocab-size, size vocab_size * num_hidden\n",
    "* * W_hh : size num_hidden * num_hidden \n",
    "* * W_hy : size num_hidden * vocab_size\n",
    "* np.dot(): matrix multiplication (nowadays performed with @ )"
   ]
  },
  {
   "cell_type": "markdown",
   "metadata": {},
   "source": [
    "Note: LSTM has just a more complex self.h = ... equation"
   ]
  },
  {
   "cell_type": "markdown",
   "metadata": {},
   "source": [
    "# But what is self.h ? "
   ]
  },
  {
   "cell_type": "markdown",
   "metadata": {},
   "source": [
    "<img src=\"https://miro.medium.com/max/700/1*NKhwsOYNUT5xU7Pyf6Znhg.png\" />"
   ]
  },
  {
   "cell_type": "markdown",
   "metadata": {},
   "source": [
    "It's a vector which contains information about what happened before. It encodes the context of the sentence."
   ]
  },
  {
   "cell_type": "markdown",
   "metadata": {},
   "source": [
    "We pass it as input to the next calculation, as well as the Xt+1"
   ]
  },
  {
   "cell_type": "markdown",
   "metadata": {},
   "source": [
    "For example, if the sentence is \"My coach is a good man\", for the last prediction, we pass \"good\" to the model, as well as a vector h that contains the context for \"My coach is a\""
   ]
  },
  {
   "cell_type": "markdown",
   "metadata": {},
   "source": [
    "# Hello: RNN from scratch ?"
   ]
  },
  {
   "cell_type": "markdown",
   "metadata": {},
   "source": [
    "not this time: instead we will deconstruct code from <a href=\"https://medium.com/@mliuzzolino/hello-rnn-55a9237b7112\"> this article </a>"
   ]
  },
  {
   "cell_type": "code",
   "execution_count": 6,
   "metadata": {},
   "outputs": [],
   "source": [
    "import sys\n",
    "import numpy as np\n",
    "import matplotlib.pyplot as plt\n",
    "\n",
    "import torch\n",
    "import torch.nn as nn\n",
    "import torch.optim as optim"
   ]
  },
  {
   "cell_type": "markdown",
   "metadata": {},
   "source": [
    "## Setup data"
   ]
  },
  {
   "cell_type": "code",
   "execution_count": 1,
   "metadata": {},
   "outputs": [],
   "source": [
    "class DataHandler:\n",
    "    def __init__(self, string):\n",
    "        self.string = string\n",
    "        \n",
    "        characters = np.sort(list(set(string)))\n",
    "        self.num_characters = len(characters)\n",
    "        \n",
    "        self.char_to_idx = { ch : i for i, ch in enumerate(characters) }\n",
    "        self.idx_to_char = { i : ch for ch, i in self.char_to_idx.items() }\n",
    "        \n",
    "        self._process()\n",
    "        \n",
    "    def _process(self):\n",
    "        data_torch = torch.tensor([self.make_onehot(ele).data.numpy() for ele in self.string])\n",
    "\n",
    "        self.X = data_torch[:-1].float()\n",
    "        self.y = torch.argmax(data_torch[1:], dim=1).long()\n",
    "        \n",
    "    def make_onehot(self, char):\n",
    "        return torch.eye(self.num_characters)[self.char_to_idx[char]].float()"
   ]
  },
  {
   "cell_type": "markdown",
   "metadata": {},
   "source": [
    "###  deconstruct"
   ]
  },
  {
   "cell_type": "markdown",
   "metadata": {},
   "source": [
    "EXERCISE: for each Q below, print some code and add a commentary"
   ]
  },
  {
   "cell_type": "markdown",
   "metadata": {},
   "source": [
    "#### data"
   ]
  },
  {
   "cell_type": "code",
   "execution_count": 2,
   "metadata": {},
   "outputs": [],
   "source": [
    "string = 'Hello!'"
   ]
  },
  {
   "cell_type": "code",
   "execution_count": 3,
   "metadata": {},
   "outputs": [],
   "source": [
    "# Q: in the above code, find the line where we get the different unique characters of our string and sort them\n",
    "\n",
    "\n",
    "# Q: How many different characters do we have ? \n",
    "\n",
    "\n",
    "# Q: how does np.sort orders punctuation compared to letters ? \n"
   ]
  },
  {
   "cell_type": "code",
   "execution_count": 4,
   "metadata": {},
   "outputs": [],
   "source": [
    "# What does char_to_idx and idx_to_char do ? \n"
   ]
  },
  {
   "cell_type": "code",
   "execution_count": null,
   "metadata": {},
   "outputs": [],
   "source": [
    "# To emphrasize the ordering of punctuation, print the idx of the character \"!\"\n"
   ]
  },
  {
   "cell_type": "markdown",
   "metadata": {},
   "source": [
    "#### _make_onehot\n",
    "<code>make_onehot (takes \"char\" as an argument): \n",
    "return torch.eye(self.num_characters)[self.char_to_idx[char]].float()</code>"
   ]
  },
  {
   "cell_type": "code",
   "execution_count": 8,
   "metadata": {},
   "outputs": [],
   "source": [
    "#Q: first, what does torch.eye(n) do ? "
   ]
  },
  {
   "cell_type": "code",
   "execution_count": 9,
   "metadata": {},
   "outputs": [],
   "source": [
    "# Then, what does char_to_idx[char] do ? \n",
    "\n",
    "# finally, what does the complete line torch.eye(self.num_characters)[char_to_idx[char]] do ? \n"
   ]
  },
  {
   "cell_type": "markdown",
   "metadata": {},
   "source": [
    "#### process\n",
    "<code>def _process(self):\n",
    "    data_torch = torch.tensor([self.make_onehot(ele).data.numpy() for ele in self.string])\n",
    "    self.X = data_torch[:-1].float()\n",
    "    self.y = torch.argmax(data_torch[1:], dim=1).long()</code>"
   ]
  },
  {
   "cell_type": "code",
   "execution_count": 11,
   "metadata": {},
   "outputs": [
    {
     "name": "stdout",
     "output_type": "stream",
     "text": [
      "tensor([0., 1., 0., 0., 0.])\n",
      "tensor([0., 0., 1., 0., 0.])\n",
      "tensor([0., 0., 0., 1., 0.])\n",
      "tensor([0., 0., 0., 1., 0.])\n",
      "tensor([0., 0., 0., 0., 1.])\n",
      "tensor([1., 0., 0., 0., 0.])\n"
     ]
    }
   ],
   "source": [
    "# data_torch = torch.tensor([self.make_onehot(ele).data.numpy() for ele in self.string])\n",
    "# put the list comprehension inside torch.tensor as a classic for loop:\n"
   ]
  },
  {
   "cell_type": "code",
   "execution_count": 12,
   "metadata": {},
   "outputs": [
    {
     "data": {
      "text/plain": [
       "[tensor([0., 1., 0., 0., 0.]),\n",
       " tensor([0., 0., 1., 0., 0.]),\n",
       " tensor([0., 0., 0., 1., 0.]),\n",
       " tensor([0., 0., 0., 1., 0.]),\n",
       " tensor([0., 0., 0., 0., 1.]),\n",
       " tensor([1., 0., 0., 0., 0.])]"
      ]
     },
     "execution_count": 12,
     "metadata": {},
     "output_type": "execute_result"
    }
   ],
   "source": [
    "# list comprehensions:\n",
    "[torch.eye(5)[char_to_idx[ele]] for ele in string]"
   ]
  },
  {
   "cell_type": "markdown",
   "metadata": {},
   "source": [
    "###### Why .data.numpy() ? "
   ]
  },
  {
   "cell_type": "code",
   "execution_count": 21,
   "metadata": {},
   "outputs": [
    {
     "data": {
      "text/plain": [
       "tensor([[[1., 0., 0., 0., 0.],\n",
       "         [0., 1., 0., 0., 0.],\n",
       "         [0., 0., 1., 0., 0.],\n",
       "         [0., 0., 0., 1., 0.],\n",
       "         [0., 0., 0., 0., 1.]]])"
      ]
     },
     "execution_count": 21,
     "metadata": {},
     "output_type": "execute_result"
    }
   ],
   "source": [
    "torch.tensor([torch.eye(5).numpy()]) # try removing the .numpy()"
   ]
  },
  {
   "cell_type": "code",
   "execution_count": 16,
   "metadata": {},
   "outputs": [
    {
     "data": {
      "text/plain": [
       "tensor([1, 2])"
      ]
     },
     "execution_count": 16,
     "metadata": {},
     "output_type": "execute_result"
    }
   ],
   "source": [
    "# This will work\n",
    "torch.tensor([torch.tensor(1), torch.tensor(2)])"
   ]
  },
  {
   "cell_type": "code",
   "execution_count": 17,
   "metadata": {},
   "outputs": [
    {
     "ename": "ValueError",
     "evalue": "only one element tensors can be converted to Python scalars",
     "output_type": "error",
     "traceback": [
      "\u001b[0;31m---------------------------------------------------------------------------\u001b[0m",
      "\u001b[0;31mValueError\u001b[0m                                Traceback (most recent call last)",
      "\u001b[0;32m<ipython-input-17-7b43593c7c5e>\u001b[0m in \u001b[0;36m<module>\u001b[0;34m\u001b[0m\n\u001b[1;32m      1\u001b[0m \u001b[0;31m# but this won't\u001b[0m\u001b[0;34m\u001b[0m\u001b[0;34m\u001b[0m\u001b[0;34m\u001b[0m\u001b[0m\n\u001b[0;32m----> 2\u001b[0;31m \u001b[0mtorch\u001b[0m\u001b[0;34m.\u001b[0m\u001b[0mtensor\u001b[0m\u001b[0;34m(\u001b[0m\u001b[0;34m[\u001b[0m\u001b[0mtorch\u001b[0m\u001b[0;34m.\u001b[0m\u001b[0mtensor\u001b[0m\u001b[0;34m(\u001b[0m\u001b[0;34m[\u001b[0m\u001b[0;36m1\u001b[0m\u001b[0;34m,\u001b[0m \u001b[0;36m2\u001b[0m\u001b[0;34m]\u001b[0m\u001b[0;34m)\u001b[0m\u001b[0;34m,\u001b[0m \u001b[0mtorch\u001b[0m\u001b[0;34m.\u001b[0m\u001b[0mtensor\u001b[0m\u001b[0;34m(\u001b[0m\u001b[0;34m[\u001b[0m\u001b[0;36m2\u001b[0m\u001b[0;34m,\u001b[0m \u001b[0;36m2\u001b[0m\u001b[0;34m]\u001b[0m\u001b[0;34m)\u001b[0m\u001b[0;34m]\u001b[0m\u001b[0;34m)\u001b[0m\u001b[0;34m\u001b[0m\u001b[0;34m\u001b[0m\u001b[0m\n\u001b[0m",
      "\u001b[0;31mValueError\u001b[0m: only one element tensors can be converted to Python scalars"
     ]
    }
   ],
   "source": [
    "# but this won't \n",
    "torch.tensor([torch.tensor([1, 2]), torch.tensor([2, 2])])"
   ]
  },
  {
   "cell_type": "code",
   "execution_count": 13,
   "metadata": {},
   "outputs": [
    {
     "name": "stdout",
     "output_type": "stream",
     "text": [
      "<class 'torch.Tensor'>\n"
     ]
    },
    {
     "ename": "ValueError",
     "evalue": "only one element tensors can be converted to Python scalars",
     "output_type": "error",
     "traceback": [
      "\u001b[0;31m---------------------------------------------------------------------------\u001b[0m",
      "\u001b[0;31mValueError\u001b[0m                                Traceback (most recent call last)",
      "\u001b[0;32m<ipython-input-13-a111c3304a1d>\u001b[0m in \u001b[0;36m<module>\u001b[0;34m\u001b[0m\n\u001b[1;32m      1\u001b[0m \u001b[0;31m# doesn't work;\u001b[0m\u001b[0;34m\u001b[0m\u001b[0;34m\u001b[0m\u001b[0;34m\u001b[0m\u001b[0m\n\u001b[1;32m      2\u001b[0m \u001b[0mprint\u001b[0m\u001b[0;34m(\u001b[0m\u001b[0mtype\u001b[0m\u001b[0;34m(\u001b[0m\u001b[0;34m[\u001b[0m\u001b[0mtorch\u001b[0m\u001b[0;34m.\u001b[0m\u001b[0meye\u001b[0m\u001b[0;34m(\u001b[0m\u001b[0;36m5\u001b[0m\u001b[0;34m)\u001b[0m\u001b[0;34m[\u001b[0m\u001b[0mchar_to_idx\u001b[0m\u001b[0;34m[\u001b[0m\u001b[0mele\u001b[0m\u001b[0;34m]\u001b[0m\u001b[0;34m]\u001b[0m \u001b[0;32mfor\u001b[0m \u001b[0mele\u001b[0m \u001b[0;32min\u001b[0m \u001b[0mstring\u001b[0m\u001b[0;34m]\u001b[0m\u001b[0;34m[\u001b[0m\u001b[0;36m0\u001b[0m\u001b[0;34m]\u001b[0m\u001b[0;34m)\u001b[0m\u001b[0;34m)\u001b[0m\u001b[0;34m\u001b[0m\u001b[0;34m\u001b[0m\u001b[0m\n\u001b[0;32m----> 3\u001b[0;31m \u001b[0mtorch\u001b[0m\u001b[0;34m.\u001b[0m\u001b[0mtensor\u001b[0m\u001b[0;34m(\u001b[0m\u001b[0;34m[\u001b[0m\u001b[0mtorch\u001b[0m\u001b[0;34m.\u001b[0m\u001b[0meye\u001b[0m\u001b[0;34m(\u001b[0m\u001b[0;36m5\u001b[0m\u001b[0;34m)\u001b[0m\u001b[0;34m[\u001b[0m\u001b[0mchar_to_idx\u001b[0m\u001b[0;34m[\u001b[0m\u001b[0mele\u001b[0m\u001b[0;34m]\u001b[0m\u001b[0;34m]\u001b[0m \u001b[0;32mfor\u001b[0m \u001b[0mele\u001b[0m \u001b[0;32min\u001b[0m \u001b[0mstring\u001b[0m\u001b[0;34m]\u001b[0m\u001b[0;34m)\u001b[0m\u001b[0;34m\u001b[0m\u001b[0;34m\u001b[0m\u001b[0m\n\u001b[0m",
      "\u001b[0;31mValueError\u001b[0m: only one element tensors can be converted to Python scalars"
     ]
    }
   ],
   "source": [
    "# doesn't work; \n",
    "print(type([torch.eye(5)[char_to_idx[ele]] for ele in string][0]))\n",
    "torch.tensor([torch.eye(5)[char_to_idx[ele]] for ele in string])  "
   ]
  },
  {
   "cell_type": "code",
   "execution_count": 26,
   "metadata": {},
   "outputs": [],
   "source": [
    "# make it work:"
   ]
  },
  {
   "cell_type": "markdown",
   "metadata": {},
   "source": [
    "Takeaway: when you see this error, remember to use .data.numpy()"
   ]
  },
  {
   "cell_type": "code",
   "execution_count": null,
   "metadata": {},
   "outputs": [],
   "source": []
  },
  {
   "cell_type": "code",
   "execution_count": 18,
   "metadata": {},
   "outputs": [
    {
     "data": {
      "text/plain": [
       "['!', '?', 'a', 'l']"
      ]
     },
     "execution_count": 18,
     "metadata": {},
     "output_type": "execute_result"
    }
   ],
   "source": [
    "# In the end, the line:\n",
    "# torch.tensor([torch.eye(5)[char_to_idx[ele]].data.numpy() for ele in string])\n",
    "# just gives back a one-hot encoded tensor for each character in the string\n",
    "# the last tensor has a \"one\" in the first position, because \"!\" has value 0 in the\n",
    "# char_to_idx dictionnary, and it has value 0 it the char_to_idx dictionnary because\n",
    "sorted('l?a!')\n",
    "# sorted() sorts puctuation before letters"
   ]
  },
  {
   "cell_type": "markdown",
   "metadata": {},
   "source": [
    "### set up the data using our DataHandler class"
   ]
  },
  {
   "cell_type": "code",
   "execution_count": 27,
   "metadata": {},
   "outputs": [],
   "source": [
    "# Use the DataHandler class with the Hello! string to create your data\n",
    "data = DataHandler(\"Hello!\")"
   ]
  },
  {
   "cell_type": "code",
   "execution_count": 31,
   "metadata": {},
   "outputs": [
    {
     "data": {
      "text/plain": [
       "tensor([0., 1., 0., 0., 0.])"
      ]
     },
     "execution_count": 31,
     "metadata": {},
     "output_type": "execute_result"
    }
   ],
   "source": [
    "# As we've seen, make one_hot gives you your input vector\n",
    "data.make_onehot('H')"
   ]
  },
  {
   "cell_type": "code",
   "execution_count": 32,
   "metadata": {},
   "outputs": [
    {
     "data": {
      "text/plain": [
       "tensor([[0., 1., 0., 0., 0.],\n",
       "        [0., 0., 1., 0., 0.],\n",
       "        [0., 0., 0., 1., 0.],\n",
       "        [0., 0., 0., 1., 0.],\n",
       "        [0., 0., 0., 0., 1.]])"
      ]
     },
     "execution_count": 32,
     "metadata": {},
     "output_type": "execute_result"
    }
   ],
   "source": [
    "# here is all your data: \n",
    "data.X"
   ]
  },
  {
   "cell_type": "code",
   "execution_count": 33,
   "metadata": {},
   "outputs": [
    {
     "data": {
      "text/plain": [
       "tensor([2, 3, 3, 4, 0])"
      ]
     },
     "execution_count": 33,
     "metadata": {},
     "output_type": "execute_result"
    }
   ],
   "source": [
    "# And the labels associated: \n",
    "data.y"
   ]
  },
  {
   "cell_type": "code",
   "execution_count": 34,
   "metadata": {
    "scrolled": true
   },
   "outputs": [
    {
     "name": "stdout",
     "output_type": "stream",
     "text": [
      "tensor([0., 1., 0., 0., 0.]) tensor(2)\n",
      "tensor([0., 0., 1., 0., 0.]) tensor(3)\n",
      "tensor([0., 0., 0., 1., 0.]) tensor(3)\n",
      "tensor([0., 0., 0., 1., 0.]) tensor(4)\n",
      "tensor([0., 0., 0., 0., 1.]) tensor(0)\n"
     ]
    }
   ],
   "source": [
    "# use a loop to print each data point with its associated label:\n",
    "# For example, when we pass \"H\" to the model, we want it to predict 2 ( parce que data.idx_to_char[2] = e)\n",
    "# hint: I used zip()"
   ]
  },
  {
   "cell_type": "markdown",
   "metadata": {},
   "source": [
    "## Model"
   ]
  },
  {
   "cell_type": "markdown",
   "metadata": {},
   "source": [
    "### deconstruct RNNCell"
   ]
  },
  {
   "cell_type": "code",
   "execution_count": 23,
   "metadata": {},
   "outputs": [],
   "source": [
    "class RNNCell(nn.Module):\n",
    "    def __init__(self, num_chars, num_hidden):\n",
    "        super().__init__()\n",
    "        \n",
    "        self.num_chars = num_chars\n",
    "        self.num_hidden = num_hidden\n",
    "        \n",
    "        # Network Parameters\n",
    "        # Potential Input\n",
    "        self.Wxh = nn.Parameter(torch.randn((num_chars, num_hidden)))\n",
    "        self.Whh = nn.Parameter(torch.randn((num_hidden, num_hidden)))\n",
    "        self.bh = nn.Parameter(torch.zeros((num_hidden)))\n",
    "        \n",
    "        # Hidden -> Output\n",
    "        self.Why = nn.Parameter(torch.randn((num_hidden, num_chars)))\n",
    "        self.by = nn.Parameter(torch.zeros((num_chars))) \n",
    "        \n",
    "        # Activations\n",
    "        self.tanh = nn.Tanh()\n",
    "    \n",
    "    def init(self):\n",
    "        # Initialize hidden state to zero\n",
    "        self.h = torch.zeros((self.num_hidden))\n",
    "        \n",
    "    def forward(self, x):\n",
    "        # here is the \"model\", the equation presented above\n",
    "        self.h = self.tanh((x @ self.Wxh) + (self.h @ self.Whh + self.bh))\n",
    "        y_output = self.h @ self.Why + self.by\n",
    "        return y_output"
   ]
  },
  {
   "cell_type": "code",
   "execution_count": 48,
   "metadata": {},
   "outputs": [
    {
     "data": {
      "text/plain": [
       "torch.Size([5, 60])"
      ]
     },
     "execution_count": 48,
     "metadata": {},
     "output_type": "execute_result"
    }
   ],
   "source": [
    "# just like a fully connected neural net, you pick your number of hidden neurons\n",
    "num_hidden = 60\n",
    "num_chars = data.num_characters\n",
    "\n",
    "Wxh = torch.randn((num_chars, num_hidden))\n",
    "Wxh.shape"
   ]
  },
  {
   "cell_type": "code",
   "execution_count": 49,
   "metadata": {},
   "outputs": [
    {
     "name": "stdout",
     "output_type": "stream",
     "text": [
      "torch.Size([60])\n"
     ]
    }
   ],
   "source": [
    "# now you can start plugging the numbers:\n",
    "result1 = data.X[0] @ Wxh\n",
    "print(result1.shape)"
   ]
  },
  {
   "cell_type": "code",
   "execution_count": 50,
   "metadata": {},
   "outputs": [
    {
     "name": "stdout",
     "output_type": "stream",
     "text": [
      "hidden state shape: torch.Size([60])\n",
      "Whh shape: torch.Size([60, 60])\n",
      "bh shape: torch.Size([60])\n",
      "We output a vector of size num_hidden\n",
      "torch.Size([60])\n"
     ]
    }
   ],
   "source": [
    "# deconstructing this line: self.h = self.tanh((x @ self.Wxh) + (self.h @ self.Whh + self.bh))\n",
    "h = torch.zeros((num_hidden))\n",
    "Whh = torch.randn((num_hidden, num_hidden))\n",
    "bh = torch.zeros(num_hidden)\n",
    "print(\"hidden state shape: \" + str(h.shape))\n",
    "print(\"Whh shape: \" + str(Whh.shape))\n",
    "print(\"bh shape: \" + str(bh.shape))\n",
    "result2 = h @ Whh + bh\n",
    "print(\"We output a vector of size num_hidden\")\n",
    "print(result2.shape)"
   ]
  },
  {
   "cell_type": "code",
   "execution_count": 51,
   "metadata": {},
   "outputs": [
    {
     "data": {
      "text/plain": [
       "torch.Size([60])"
      ]
     },
     "execution_count": 51,
     "metadata": {},
     "output_type": "execute_result"
    }
   ],
   "source": [
    "# As you can see, hidden state for next input is indeed the same as initial hidden state shape\n",
    "nn.Tanh()(result1+result2).shape"
   ]
  },
  {
   "cell_type": "code",
   "execution_count": 27,
   "metadata": {},
   "outputs": [
    {
     "name": "stdout",
     "output_type": "stream",
     "text": [
      "torch.Size([5])\n"
     ]
    },
    {
     "data": {
      "text/plain": [
       "tensor([ 0.7424,  1.3627, -0.4633, -0.8275,  1.1662])"
      ]
     },
     "execution_count": 27,
     "metadata": {},
     "output_type": "execute_result"
    }
   ],
   "source": [
    "# deconstructing this line: y_output = self.h @ self.Why + self.by\n",
    "Why = torch.randn((num_hidden, num_chars))\n",
    "bh = torch.randn(num_chars)\n",
    "print((h @ Why + bh).shape)\n",
    "h @ Why + bh"
   ]
  },
  {
   "cell_type": "code",
   "execution_count": 28,
   "metadata": {},
   "outputs": [
    {
     "name": "stdout",
     "output_type": "stream",
     "text": [
      "True\n",
      "True\n"
     ]
    }
   ],
   "source": [
    "my_rnn_cell = RNNCell(5, 50)\n",
    "print(isinstance(my_rnn_cell, nn.Module))\n",
    "print(hasattr(nn.Module, \"parameters\"))"
   ]
  },
  {
   "cell_type": "code",
   "execution_count": 29,
   "metadata": {},
   "outputs": [
    {
     "name": "stdout",
     "output_type": "stream",
     "text": [
      "torch.Size([5, 50])\n",
      "torch.Size([50, 50])\n",
      "torch.Size([50])\n",
      "torch.Size([50, 5])\n",
      "torch.Size([5])\n"
     ]
    }
   ],
   "source": [
    "# Classes: what happens is when you subclass nn.Module, \n",
    "# it will register for you every time you add a nn.parameter:\n",
    "\n",
    "for param in my_rnn_cell.parameters():\n",
    "    print(param.shape)"
   ]
  },
  {
   "cell_type": "markdown",
   "metadata": {},
   "source": [
    "<b> note that self.h is NOT a parameter. It's the state of the cell. It's not updated directly by backprop </b>"
   ]
  },
  {
   "cell_type": "markdown",
   "metadata": {},
   "source": [
    "### deconstruct HelloRNN"
   ]
  },
  {
   "cell_type": "code",
   "execution_count": 30,
   "metadata": {},
   "outputs": [],
   "source": [
    "class HelloRNN(nn.Module):    \n",
    "    def __init__(self, num_chars, num_hidden=10):\n",
    "        super().__init__()\n",
    "\n",
    "        self.cell = RNNCell(num_chars, num_hidden)       \n",
    "        self._init_weights()\n",
    "    \n",
    "    def _init_weights(self):\n",
    "        for param in self.cell.parameters():  # this is just what we did above\n",
    "            param.requires_grad_(True)  # not necessary here but a good practice\n",
    "            \n",
    "            if param.data.ndimension() >= 2:\n",
    "                # we won't go into much detail for this\n",
    "                # just remember that if we set our parameters for a\n",
    "                # linear regression to bad numbers it can ruin the\n",
    "                # training. Xavier Glorot has come up with some good ideas\n",
    "                # to find good numbers to start with\n",
    "                nn.init.xavier_uniform_(param.data)\n",
    "            else:\n",
    "                # self.bh and self.by are just biases, they can be initially set to 0\n",
    "                nn.init.zeros_(param.data)\n",
    "                \n",
    "    def forward(self, X):\n",
    "        # Setup outputs container\n",
    "        outputs = torch.zeros_like(X)\n",
    "        \n",
    "        # Iterate through sequence\n",
    "        self.cell.init()\n",
    "        for i, x in enumerate(X):\n",
    "            # this takes one line of X i.e [0., 1., 0., 0., 0.]\n",
    "            # representing the h. And asks for an output of size ...? \n",
    "            outputs[i] = self.cell(x)\n",
    "            \n",
    "        return outputs\n",
    "    \n",
    "    # we won't analyze generate into too much detail, but you are free to do this at home :-)\n",
    "    def generate(self, data, init_char, num_steps=5):\n",
    "        # Check for valid character\n",
    "        if init_char not in data.char_to_idx:\n",
    "            avail_chars = \",\".join(data.char_to_idx.keys())\n",
    "            print(f\"Character not in vocab. Pick another from: {avail_chars}\")\n",
    "            return\n",
    "\n",
    "        self.eval()\n",
    "\n",
    "        # Setup feed\n",
    "        feed = torch.zeros((num_steps, data.num_characters))\n",
    "        feed[0] = data.make_onehot(init_char).unsqueeze(dim=0)\n",
    "\n",
    "        output = [init_char]\n",
    "        for predict_i in range(num_steps-1):\n",
    "            feed_in = feed[:predict_i+1]\n",
    "            next_chars = self(feed_in)[-1]\n",
    "            \n",
    "            next_char_idx = torch.argmax(next_chars).item()\n",
    "            next_char = data.idx_to_char[next_char_idx]\n",
    "\n",
    "            feed[predict_i+1] = data.make_onehot(next_char).unsqueeze(dim=0)\n",
    "            output.append(next_char)\n",
    "\n",
    "        output_str = \"\".join(output)\n",
    "        return output_str"
   ]
  },
  {
   "cell_type": "markdown",
   "metadata": {},
   "source": [
    "### Train !"
   ]
  },
  {
   "cell_type": "code",
   "execution_count": 31,
   "metadata": {},
   "outputs": [],
   "source": [
    "# Use our class to define a network\n",
    "net = HelloRNN(num_chars=data.num_characters, num_hidden=50)"
   ]
  },
  {
   "cell_type": "code",
   "execution_count": 32,
   "metadata": {},
   "outputs": [],
   "source": [
    "# we saw this morning and last week what an optimiser does\n",
    "optimizer = optim.Adam(net.parameters(), lr=0.001)\n",
    "criterion = nn.CrossEntropyLoss()\n",
    "\n",
    "# store the losses (just to plot a graph)\n",
    "losses = []"
   ]
  },
  {
   "cell_type": "code",
   "execution_count": 33,
   "metadata": {},
   "outputs": [
    {
     "name": "stdout",
     "output_type": "stream",
     "text": [
      "\r",
      "Epoch 1/5000 -- Loss: 1.8737 -- Network out: H!l!H!\n",
      "\r",
      "Epoch 11/5000 -- Loss: 1.3098 -- Network out: H!lll!\n",
      "\r",
      "Epoch 21/5000 -- Loss: 0.9096 -- Network out: H!llo!\n",
      "\r",
      "Epoch 31/5000 -- Loss: 0.6387 -- Network out: H!llo!\n",
      "\r",
      "Epoch 41/5000 -- Loss: 0.4683 -- Network out: Hello!\n",
      "\n",
      "Ending early. Converged in 40 epochs.\n"
     ]
    },
    {
     "data": {
      "text/plain": [
       "[<matplotlib.lines.Line2D at 0x7fe76d245550>]"
      ]
     },
     "execution_count": 33,
     "metadata": {},
     "output_type": "execute_result"
    },
    {
     "data": {
      "image/png": "[encoded data removed]",
      "text/plain": [
       "<Figure size 432x288 with 1 Axes>"
      ]
     },
     "metadata": {
      "needs_background": "light"
     },
     "output_type": "display_data"
    }
   ],
   "source": [
    "N_EPOCHS = 5000\n",
    "LR = 0.005\n",
    "end_early = False\n",
    "seq_i = \"\"\n",
    "\n",
    "net.train() # Ensure net in training mode\n",
    "for epoch_i in range(N_EPOCHS):\n",
    "    # Zero out gradients\n",
    "    optimizer.___________\n",
    "    \n",
    "    # Get net output, calculate loss, and generate gradients\n",
    "    output = ___(______)\n",
    "    loss = criterion(______, ____._)\n",
    "    \n",
    "    # This is where the magic happens\n",
    "    loss.__________ # Generate gradients via autodiff\n",
    "    \n",
    "    # Step\n",
    "    # -----------------------------------\n",
    "    # Clip params\n",
    "    for param in net.parameters():\n",
    "        if param.grad is None:\n",
    "            continue\n",
    "        grad_val = torch.clamp(param.grad, -5, 5)\n",
    "    optimizer.______\n",
    "    # some people put the optimizer.zero_grad() here\n",
    "    # -----------------------------------\n",
    "    \n",
    "    # Track loss\n",
    "    losses.append(loss.item())\n",
    "    \n",
    "    # Qualitative Eval\n",
    "    if epoch_i % 10 == 0:\n",
    "        seq_i = net.generate(data, data.string[0], num_steps=len(data.string))\n",
    "        \n",
    "        if seq_i == data.string:\n",
    "            end_early = True\n",
    "            \n",
    "        # Stdout\n",
    "        # --------------------------------\n",
    "        print(f'\\rEpoch {epoch_i+1}/{N_EPOCHS} -- Loss: {losses[-1]:0.4f} -- Network out: {seq_i}')\n",
    "    \n",
    "    if end_early:\n",
    "        print(f\"\\nEnding early. Converged in {epoch_i} epochs.\")\n",
    "        break\n",
    "    \n",
    "plt.plot(losses)"
   ]
  },
  {
   "cell_type": "markdown",
   "metadata": {},
   "source": [
    "# Make a \"prediction\""
   ]
  },
  {
   "cell_type": "code",
   "execution_count": 46,
   "metadata": {},
   "outputs": [
    {
     "data": {
      "text/plain": [
       "'Hello!'"
      ]
     },
     "execution_count": 46,
     "metadata": {},
     "output_type": "execute_result"
    }
   ],
   "source": [
    "init_char = data.string[0]\n",
    "net.generate(data, init_char, num_steps=6)"
   ]
  },
  {
   "cell_type": "markdown",
   "metadata": {},
   "source": [
    "# Takeaways "
   ]
  },
  {
   "cell_type": "markdown",
   "metadata": {},
   "source": [
    "* RNN and LSTM are the same thing. The second just has a more complicated equation\n",
    "* what is powerful with RNN: they don't have a fixed input and output !\n",
    "* Text is passed as numbers. Here, we used one-hot encoding, but there are plenty of other options"
   ]
  },
  {
   "cell_type": "code",
   "execution_count": null,
   "metadata": {},
   "outputs": [],
   "source": []
  }
 ],
 "metadata": {
  "kernelspec": {
   "display_name": "Python 3",
   "language": "python",
   "name": "python3"
  },
  "language_info": {
   "codemirror_mode": {
    "name": "ipython",
    "version": 3
   },
   "file_extension": ".py",
   "mimetype": "text/x-python",
   "name": "python",
   "nbconvert_exporter": "python",
   "pygments_lexer": "ipython3",
   "version": "3.7.6"
  }
 },
 "nbformat": 4,
 "nbformat_minor": 2
}
